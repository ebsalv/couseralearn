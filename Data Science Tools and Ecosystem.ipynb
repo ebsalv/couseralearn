{
 "cells": [
  {
   "cell_type": "markdown",
   "id": "b5823f61",
   "metadata": {},
   "source": [
    "# Data Science Tools and Ecosystem"
   ]
  },
  {
   "cell_type": "markdown",
   "id": "bd03b25d",
   "metadata": {},
   "source": [
    "###  In this notebook, Data Science Tools and Ecosystem are summarized."
   ]
  },
  {
   "cell_type": "markdown",
   "id": "b11fb086",
   "metadata": {},
   "source": [
    "### Some of the popular languages that Data Scientists use are\n"
   ]
  },
  {
   "cell_type": "markdown",
   "id": "6c4417be",
   "metadata": {},
   "source": [
    "###  Some of the popular languages that Data Scientists use are:\n",
    "1. Python\n",
    "2. R\n",
    "3. Scala\n",
    "4. Julia \n",
    "5. Java"
   ]
  },
  {
   "cell_type": "markdown",
   "id": "d4bba961",
   "metadata": {},
   "source": [
    "### Some of the commonly used libraries used by Data Scientists include:\n",
    "1. Mathplotlib\n",
    "2. Pandas\n",
    "3. Keras\n",
    "4. Tensor Flow\n",
    "5. Pytorch\n"
   ]
  },
  {
   "cell_type": "markdown",
   "id": "d58baabd",
   "metadata": {},
   "source": [
    "### Data Science Tools:\n"
   ]
  },
  {
   "cell_type": "markdown",
   "id": "68728197",
   "metadata": {},
   "source": [
    "\n",
    "| Data Science Tools |\n",
    "| -------------------|\n",
    "| Jupyter|\n",
    "| Jupyter|\n",
    "| Weka| \n",
    "| Apache Flink |\n",
    "| Data Science Toolkit (DST) |"
   ]
  },
  {
   "cell_type": "markdown",
   "id": "a1ca42ab",
   "metadata": {},
   "source": [
    "### Below are a few examples of evaluating arithmetic expressions in Python\n",
    "### 2 + 4\n",
    "### 2 * 9\n",
    "### Note the code cells below. \n"
   ]
  },
  {
   "cell_type": "code",
   "execution_count": 7,
   "id": "41da4ec5",
   "metadata": {},
   "outputs": [
    {
     "data": {
      "text/plain": [
       "6"
      ]
     },
     "execution_count": 7,
     "metadata": {},
     "output_type": "execute_result"
    }
   ],
   "source": [
    "2 + 4"
   ]
  },
  {
   "cell_type": "code",
   "execution_count": 8,
   "id": "6325f899",
   "metadata": {},
   "outputs": [
    {
     "data": {
      "text/plain": [
       "18"
      ]
     },
     "execution_count": 8,
     "metadata": {},
     "output_type": "execute_result"
    }
   ],
   "source": [
    "2 * 9"
   ]
  },
  {
   "cell_type": "code",
   "execution_count": 14,
   "id": "c7340f79",
   "metadata": {},
   "outputs": [
    {
     "data": {
      "text/plain": [
       "17"
      ]
     },
     "execution_count": 14,
     "metadata": {},
     "output_type": "execute_result"
    }
   ],
   "source": [
    "#This a simple arithmetic expression to mutiply then add integers\"\n",
    "(3*4)+5\n"
   ]
  },
  {
   "cell_type": "code",
   "execution_count": 15,
   "id": "849b841d",
   "metadata": {},
   "outputs": [
    {
     "data": {
      "text/plain": [
       "3.3333333333333335"
      ]
     },
     "execution_count": 15,
     "metadata": {},
     "output_type": "execute_result"
    }
   ],
   "source": [
    "#This will convert 200 minutes to hours by diving by 60\n",
    "200/60"
   ]
  },
  {
   "cell_type": "markdown",
   "id": "51801b95",
   "metadata": {},
   "source": [
    "# Objectives:\n",
    "1. Under how to use the Jupyter notebooks \n",
    "2. How to write sinple expressions \n",
    "3. How to use Markdown cells to add comments and ensure other data scientist/ analyst understand the code \n",
    "4. Show how to create simple markdown tables and lists. \n",
    "5. Use formating and styles \n",
    "6. Build and understanding about code cells and markdowns. \n",
    "7. Understand how to navigate jupyter notebook IDE \n"
   ]
  },
  {
   "cell_type": "code",
   "execution_count": null,
   "id": "9ac31655",
   "metadata": {},
   "outputs": [],
   "source": []
  }
 ],
 "metadata": {
  "kernelspec": {
   "display_name": "Python 3 (ipykernel)",
   "language": "python",
   "name": "python3"
  },
  "language_info": {
   "codemirror_mode": {
    "name": "ipython",
    "version": 3
   },
   "file_extension": ".py",
   "mimetype": "text/x-python",
   "name": "python",
   "nbconvert_exporter": "python",
   "pygments_lexer": "ipython3",
   "version": "3.11.3"
  }
 },
 "nbformat": 4,
 "nbformat_minor": 5
}
